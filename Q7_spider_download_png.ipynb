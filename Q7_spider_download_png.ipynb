{
 "cells": [
  {
   "cell_type": "code",
   "execution_count": 6,
   "metadata": {
    "ExecuteTime": {
     "end_time": "2019-11-13T03:58:41.564096Z",
     "start_time": "2019-11-13T03:58:29.526934Z"
    },
    "scrolled": true
   },
   "outputs": [
    {
     "name": "stdout",
     "output_type": "stream",
     "text": [
      "正在下载第1张图片\n",
      "正在下载第2张图片\n",
      "正在下载第3张图片\n",
      "正在下载第4张图片\n",
      "正在下载第5张图片\n",
      "正在下载第6张图片\n",
      "正在下载第7张图片\n"
     ]
    }
   ],
   "source": [
    "import requests \n",
    "import re\n",
    "\n",
    "def get_html(url):\n",
    "    headers={'user-agent':'Mozilla/5.0 (X11; Linux x86_64) AppleWebKit/537.36 (KHTML, like Gecko) Chrome/78.0.3904.87 Safari/537.36'}\n",
    "\n",
    "    response=requests.get(url,headers=headers)\n",
    "    return response\n",
    "    \n",
    "def phase_html(html):\n",
    "    text=html.content.decode('utf-8')\n",
    "    pattern=re.compile(r'src=\"(https://imgsa.baidu.com/forum/.+?jpg)\"')\n",
    "    return re.findall(pattern,text)\n",
    "def save_pic(html,number):\n",
    "    path=r'./image/图片{}.jpg'.format(number)\n",
    "    with open(path,'wb')as f:\n",
    "        print(\"正在下载第%s张图片\"%number)\n",
    "        f.write(html.content)\n",
    "def main():\n",
    "    url='https://tieba.baidu.com/p/5815297430?pn={}'.format(i+1)\n",
    "    html=get_html(url)\n",
    "    pic_list=phase_html(html)\n",
    "    number=1\n",
    "    for pic in pic_list:\n",
    "        html=get_html(pic)\n",
    "        save_pic(html,number)\n",
    "        number+=1\n",
    "         \n",
    "main()"
   ]
  },
  {
   "cell_type": "code",
   "execution_count": null,
   "metadata": {
    "collapsed": true
   },
   "outputs": [],
   "source": []
  }
 ],
 "metadata": {
  "kernelspec": {
   "display_name": "Python 3",
   "language": "python",
   "name": "python3"
  },
  "language_info": {
   "codemirror_mode": {
    "name": "ipython",
    "version": 3
   },
   "file_extension": ".py",
   "mimetype": "text/x-python",
   "name": "python",
   "nbconvert_exporter": "python",
   "pygments_lexer": "ipython3",
   "version": "3.6.7"
  },
  "toc": {
   "base_numbering": 1,
   "nav_menu": {},
   "number_sections": true,
   "sideBar": true,
   "skip_h1_title": false,
   "title_cell": "Table of Contents",
   "title_sidebar": "Contents ",
   "toc_cell": false,
   "toc_position": {},
   "toc_section_display": true,
   "toc_window_display": false
  }
 },
 "nbformat": 4,
 "nbformat_minor": 2
}
